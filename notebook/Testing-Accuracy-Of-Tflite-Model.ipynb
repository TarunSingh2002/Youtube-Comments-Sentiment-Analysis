{
 "cells": [
  {
   "cell_type": "code",
   "execution_count": 2,
   "metadata": {},
   "outputs": [
    {
     "name": "stderr",
     "output_type": "stream",
     "text": [
      "c:\\Users\\tarun\\Desktop\\hugging-face-deployment\\Youtube-Video-Comments-Sentiment-Analysis\\env\\lib\\site-packages\\tqdm\\auto.py:21: TqdmWarning: IProgress not found. Please update jupyter and ipywidgets. See https://ipywidgets.readthedocs.io/en/stable/user_install.html\n",
      "  from .autonotebook import tqdm as notebook_tqdm\n"
     ]
    }
   ],
   "source": [
    "# !pip install datasets joblib\n",
    "import numpy as np\n",
    "import pandas as pd\n",
    "import tensorflow.lite as tflite\n",
    "from datasets import load_dataset\n",
    "from transformers import AutoTokenizer\n",
    "from joblib import Parallel, delayed"
   ]
  },
  {
   "cell_type": "markdown",
   "metadata": {},
   "source": [
    "# code for production"
   ]
  },
  {
   "cell_type": "code",
   "execution_count": 23,
   "metadata": {},
   "outputs": [],
   "source": [
    "tokenizer_path = r'C:\\Users\\tarun\\Desktop\\hugging-face-deployment\\Youtube-Video-Comments-Sentiment-Analysis\\model\\saved_tokenizer'\n",
    "fine_tuned_tokenizer = AutoTokenizer.from_pretrained(tokenizer_path)\n",
    "\n",
    "# Load the TFLite model\n",
    "tflite_model_path = r'C:\\Users\\tarun\\Desktop\\hugging-face-deployment\\Youtube-Video-Comments-Sentiment-Analysis\\model\\model_float16.tflite'\n",
    "interpreter = tflite.Interpreter(model_path=tflite_model_path)\n",
    "interpreter.allocate_tensors()\n",
    "\n",
    "\n",
    "# Get input and output details for the TFLite model\n",
    "input_details = interpreter.get_input_details()\n",
    "output_details = interpreter.get_output_details()\n",
    "\n",
    "BATCH_SIZE = 16\n",
    "\n",
    "# Function to prepare inputs and get predictions from TFLite model\n",
    "def tflite_predict_batch(text_batch):\n",
    "    # Tokenize batch input text\n",
    "    inputs = fine_tuned_tokenizer(text_batch, return_tensors=\"np\", padding=\"max_length\", truncation=True, max_length=55)\n",
    "    \n",
    "    # Prepare input data for TFLite model\n",
    "    input_ids = inputs[\"input_ids\"].astype(np.int64)\n",
    "    attention_mask = inputs[\"attention_mask\"].astype(np.int64)\n",
    "    token_type_ids = inputs[\"token_type_ids\"].astype(np.int64)\n",
    "\n",
    "    # Run inference for the batch\n",
    "    results = []\n",
    "    for i in range(input_ids.shape[0]):  # Loop over the batch\n",
    "        interpreter.set_tensor(input_details[1]['index'], np.expand_dims(input_ids[i], axis=0))\n",
    "        interpreter.set_tensor(input_details[0]['index'], np.expand_dims(attention_mask[i], axis=0))\n",
    "        interpreter.set_tensor(input_details[2]['index'], np.expand_dims(token_type_ids[i], axis=0))\n",
    "        interpreter.invoke()\n",
    "\n",
    "        output = interpreter.get_tensor(output_details[0]['index'])\n",
    "        predicted_index = np.argmax(output, axis=1)[0]\n",
    "        results.append(predicted_index)\n",
    "    \n",
    "    return results"
   ]
  },
  {
   "cell_type": "code",
   "execution_count": 24,
   "metadata": {},
   "outputs": [
    {
     "name": "stdout",
     "output_type": "stream",
     "text": [
      "Predicted Sentiment: 1\n"
     ]
    }
   ],
   "source": [
    "# Example usage\n",
    "text = \"i just feel extremely comfortable with the group of people that i dont even need to hide myself\"\n",
    "predicted_sentiment = tflite_predict(text)\n",
    "print(f\"Predicted Sentiment: {predicted_sentiment}\")"
   ]
  },
  {
   "cell_type": "markdown",
   "metadata": {},
   "source": [
    "# getting the dataset and accuracy"
   ]
  },
  {
   "cell_type": "code",
   "execution_count": 25,
   "metadata": {},
   "outputs": [
    {
     "name": "stderr",
     "output_type": "stream",
     "text": [
      "Repo card metadata block was not found. Setting CardData to empty.\n"
     ]
    }
   ],
   "source": [
    "dataset1 = load_dataset('dair-ai/emotion', 'split')\n",
    "dataset2 = load_dataset('SetFit/emotion')"
   ]
  },
  {
   "cell_type": "code",
   "execution_count": 26,
   "metadata": {},
   "outputs": [],
   "source": [
    "test_dataset1 = dataset1['test']\n",
    "test_dataset2 = dataset2['test']\n",
    "validation_dataset = dataset1['validation']"
   ]
  },
  {
   "cell_type": "code",
   "execution_count": 27,
   "metadata": {},
   "outputs": [],
   "source": [
    "test_dict1 = test_dataset1.to_pandas().to_dict(orient='records')\n",
    "test_dict2 = test_dataset2.to_pandas().to_dict(orient='records')\n",
    "valid_dict = validation_dataset.to_pandas().to_dict(orient='records')"
   ]
  },
  {
   "cell_type": "code",
   "execution_count": 28,
   "metadata": {},
   "outputs": [],
   "source": [
    "# Function to process a batch of rows\n",
    "def process_batch(batch_rows):\n",
    "    texts = [row['text'] for row in batch_rows]\n",
    "    labels = [row['label'] for row in batch_rows]\n",
    "    \n",
    "    predictions = tflite_predict_batch(texts)\n",
    "    \n",
    "    # Compare predictions to true labels\n",
    "    correct_count = sum([1 for pred, true_label in zip(predictions, labels) if pred == true_label])\n",
    "    \n",
    "    return correct_count, len(batch_rows)"
   ]
  },
  {
   "cell_type": "code",
   "execution_count": 29,
   "metadata": {},
   "outputs": [],
   "source": [
    "# Use parallel processing with joblib\n",
    "def parallel_predict(dataset_dict, batch_size, n_jobs):\n",
    "    correct_predictions = 0\n",
    "    total_samples = 0\n",
    "    \n",
    "    # Split dataset into batches\n",
    "    batches = [dataset_dict[i:i + batch_size] for i in range(0, len(dataset_dict), batch_size)]\n",
    "    \n",
    "    # Process batches in parallel\n",
    "    results = Parallel(n_jobs=n_jobs)(delayed(process_batch)(batch) for batch in batches)\n",
    "    \n",
    "    # Sum up the correct predictions\n",
    "    for correct, total in results:\n",
    "        correct_predictions += correct\n",
    "        total_samples += total\n",
    "    \n",
    "    return correct_predictions, total_samples"
   ]
  },
  {
   "cell_type": "code",
   "execution_count": 30,
   "metadata": {},
   "outputs": [
    {
     "name": "stdout",
     "output_type": "stream",
     "text": [
      "Accuracy of the TFLite model on the training dataset: 0.9110\n"
     ]
    }
   ],
   "source": [
    "correct_predictions, total_samples = parallel_predict(test_dict1, BATCH_SIZE, n_jobs=1)\n",
    "accuracy = correct_predictions / total_samples\n",
    "print(f\"Accuracy of the TFLite model on the training dataset: {accuracy:.4f}\")"
   ]
  },
  {
   "cell_type": "code",
   "execution_count": 31,
   "metadata": {},
   "outputs": [
    {
     "name": "stdout",
     "output_type": "stream",
     "text": [
      "Accuracy of the TFLite model on the training dataset: 0.9110\n"
     ]
    }
   ],
   "source": [
    "correct_predictions, total_samples = parallel_predict(test_dict2, BATCH_SIZE, n_jobs=1)\n",
    "accuracy = correct_predictions / total_samples\n",
    "print(f\"Accuracy of the TFLite model on the training dataset: {accuracy:.4f}\")"
   ]
  },
  {
   "cell_type": "code",
   "execution_count": 32,
   "metadata": {},
   "outputs": [
    {
     "name": "stdout",
     "output_type": "stream",
     "text": [
      "Accuracy of the TFLite model on the training dataset: 0.9230\n"
     ]
    }
   ],
   "source": [
    "correct_predictions, total_samples = parallel_predict(valid_dict, BATCH_SIZE, n_jobs=1)\n",
    "accuracy = correct_predictions / total_samples\n",
    "print(f\"Accuracy of the TFLite model on the training dataset: {accuracy:.4f}\")"
   ]
  }
 ],
 "metadata": {
  "kernelspec": {
   "display_name": "Python 3",
   "language": "python",
   "name": "python3"
  },
  "language_info": {
   "codemirror_mode": {
    "name": "ipython",
    "version": 3
   },
   "file_extension": ".py",
   "mimetype": "text/x-python",
   "name": "python",
   "nbconvert_exporter": "python",
   "pygments_lexer": "ipython3",
   "version": "3.9.19"
  }
 },
 "nbformat": 4,
 "nbformat_minor": 2
}
