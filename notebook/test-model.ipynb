{
 "cells": [
  {
   "cell_type": "code",
   "execution_count": 25,
   "metadata": {},
   "outputs": [],
   "source": [
    "import tensorflow as tf\n",
    "from transformers import AutoTokenizer"
   ]
  },
  {
   "cell_type": "code",
   "execution_count": 26,
   "metadata": {},
   "outputs": [],
   "source": [
    "tokenizer_path = r'C:\\Users\\tarun\\Desktop\\Youtube-Comments-Sentiments-Analysis\\model\\saved_tokenizer'\n",
    "model_path = r'C:\\Users\\tarun\\Desktop\\Youtube-Comments-Sentiments-Analysis\\model\\saved_model_tf'"
   ]
  },
  {
   "cell_type": "code",
   "execution_count": 27,
   "metadata": {},
   "outputs": [],
   "source": [
    "tokenizer = AutoTokenizer.from_pretrained(tokenizer_path)"
   ]
  },
  {
   "cell_type": "code",
   "execution_count": 28,
   "metadata": {},
   "outputs": [],
   "source": [
    "model = tf.saved_model.load(model_path)"
   ]
  },
  {
   "cell_type": "code",
   "execution_count": 160,
   "metadata": {},
   "outputs": [],
   "source": [
    "text = \"there's no history without Birtish Devil involved\"\n",
    "inputs = tokenizer(text, return_tensors='tf', padding=\"max_length\", truncation=True, max_length=128)"
   ]
  },
  {
   "cell_type": "code",
   "execution_count": 161,
   "metadata": {},
   "outputs": [],
   "source": [
    "inputs = {key: tf.cast(tensor, tf.int64) for key, tensor in inputs.items()}"
   ]
  },
  {
   "cell_type": "code",
   "execution_count": 162,
   "metadata": {},
   "outputs": [
    {
     "name": "stdout",
     "output_type": "stream",
     "text": [
      "input_ids: shape=(1, 128), dtype=<dtype: 'int64'>\n",
      "token_type_ids: shape=(1, 128), dtype=<dtype: 'int64'>\n",
      "attention_mask: shape=(1, 128), dtype=<dtype: 'int64'>\n"
     ]
    }
   ],
   "source": [
    "for key, tensor in inputs.items():\n",
    "    print(f\"{key}: shape={tensor.shape}, dtype={tensor.dtype}\")"
   ]
  },
  {
   "cell_type": "code",
   "execution_count": 163,
   "metadata": {},
   "outputs": [],
   "source": [
    "serving_fn = model.signatures['serving_default']"
   ]
  },
  {
   "cell_type": "code",
   "execution_count": 164,
   "metadata": {},
   "outputs": [],
   "source": [
    "predictions = serving_fn(input_ids=inputs['input_ids'],\n",
    "                         attention_mask=inputs['attention_mask'],\n",
    "                         token_type_ids=inputs['token_type_ids'])"
   ]
  },
  {
   "cell_type": "code",
   "execution_count": 165,
   "metadata": {},
   "outputs": [],
   "source": [
    "predicted_class = tf.argmax(predictions['output_1'], axis=1).numpy()"
   ]
  },
  {
   "cell_type": "code",
   "execution_count": 166,
   "metadata": {},
   "outputs": [],
   "source": [
    "class_labels = ['negative', 'neutral', 'positive']\n",
    "predicted_label = class_labels[predicted_class[0]]"
   ]
  },
  {
   "cell_type": "code",
   "execution_count": 167,
   "metadata": {},
   "outputs": [
    {
     "name": "stdout",
     "output_type": "stream",
     "text": [
      "Text: there's no history without Birtish Devil involved\n",
      "Predicted sentiment: neutral\n"
     ]
    }
   ],
   "source": [
    "print(f\"Text: {text}\")\n",
    "print(f\"Predicted sentiment: {predicted_label}\")"
   ]
  },
  {
   "cell_type": "code",
   "execution_count": null,
   "metadata": {},
   "outputs": [],
   "source": []
  }
 ],
 "metadata": {
  "kernelspec": {
   "display_name": "Python 3",
   "language": "python",
   "name": "python3"
  },
  "language_info": {
   "codemirror_mode": {
    "name": "ipython",
    "version": 3
   },
   "file_extension": ".py",
   "mimetype": "text/x-python",
   "name": "python",
   "nbconvert_exporter": "python",
   "pygments_lexer": "ipython3",
   "version": "3.9.19"
  }
 },
 "nbformat": 4,
 "nbformat_minor": 2
}
