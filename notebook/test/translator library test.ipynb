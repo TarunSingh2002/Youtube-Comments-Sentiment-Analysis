{
 "cells": [
  {
   "cell_type": "code",
   "execution_count": 1,
   "metadata": {},
   "outputs": [],
   "source": [
    "from googletrans import Translator"
   ]
  },
  {
   "cell_type": "code",
   "execution_count": 16,
   "metadata": {},
   "outputs": [],
   "source": [
    "\n",
    "def detect_and_translate(text):\n",
    "    translator = Translator()\n",
    "    \n",
    "    detection = translator.detect(text)\n",
    "    \n",
    "    if detection.lang != 'en':\n",
    "        translation = translator.translate(text, dest='en')\n",
    "        return translation.text\n",
    "    else:\n",
    "        return text"
   ]
  },
  {
   "cell_type": "code",
   "execution_count": 17,
   "metadata": {},
   "outputs": [
    {
     "name": "stdout",
     "output_type": "stream",
     "text": [
      "Translated text: Let me go brother\n"
     ]
    }
   ],
   "source": [
    "hinglish_text = \"bhai to jane de\"\n",
    "translated_text = detect_and_translate(hinglish_text)\n",
    "print(f\"Translated text: {translated_text}\")"
   ]
  },
  {
   "cell_type": "code",
   "execution_count": 18,
   "metadata": {},
   "outputs": [
    {
     "name": "stdout",
     "output_type": "stream",
     "text": [
      "Translated text: This is already in English.\n"
     ]
    }
   ],
   "source": [
    "english_text = \"This is already in English.\"\n",
    "translated_text = detect_and_translate(english_text)\n",
    "print(f\"Translated text: {translated_text}\")"
   ]
  },
  {
   "cell_type": "code",
   "execution_count": 19,
   "metadata": {},
   "outputs": [
    {
     "name": "stdout",
     "output_type": "stream",
     "text": [
      "Translated text: It's a nice day\n"
     ]
    }
   ],
   "source": [
    "hinglish_text = \"C'est une belle journée\"\n",
    "translated_text = detect_and_translate(hinglish_text)\n",
    "print(f\"Translated text: {translated_text}\")"
   ]
  }
 ],
 "metadata": {
  "kernelspec": {
   "display_name": "Python 3",
   "language": "python",
   "name": "python3"
  },
  "language_info": {
   "codemirror_mode": {
    "name": "ipython",
    "version": 3
   },
   "file_extension": ".py",
   "mimetype": "text/x-python",
   "name": "python",
   "nbconvert_exporter": "python",
   "pygments_lexer": "ipython3",
   "version": "3.9.19"
  }
 },
 "nbformat": 4,
 "nbformat_minor": 2
}
