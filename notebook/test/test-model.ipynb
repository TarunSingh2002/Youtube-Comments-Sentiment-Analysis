{
 "cells": [
  {
   "cell_type": "code",
   "execution_count": 68,
   "metadata": {},
   "outputs": [],
   "source": [
    "import tensorflow as tf\n",
    "import numpy as np\n",
    "from transformers import AutoTokenizer, TFAutoModel"
   ]
  },
  {
   "cell_type": "code",
   "execution_count": 44,
   "metadata": {},
   "outputs": [],
   "source": [
    "tokenizer_path = r'C:\\Users\\tarun\\Desktop\\Youtube-Comments-Sentiments-Analysis\\model\\saved_tokenizer'\n",
    "model_path = r'C:\\Users\\tarun\\Desktop\\Youtube-Comments-Sentiments-Analysis\\model\\saved_model_second'"
   ]
  },
  {
   "cell_type": "code",
   "execution_count": 54,
   "metadata": {},
   "outputs": [],
   "source": [
    "fine_tuned_model = tf.saved_model.load(model_path)"
   ]
  },
  {
   "cell_type": "code",
   "execution_count": 55,
   "metadata": {},
   "outputs": [],
   "source": [
    "fine_tuned_tokenizer = AutoTokenizer.from_pretrained(tokenizer_path)"
   ]
  },
  {
   "cell_type": "code",
   "execution_count": 119,
   "metadata": {},
   "outputs": [],
   "source": [
    "text = \"i feel a little stunned but can t imagine what the folks who were working in the studio up until this morning are feeling\""
   ]
  },
  {
   "cell_type": "code",
   "execution_count": 120,
   "metadata": {},
   "outputs": [],
   "source": [
    "inputs = fine_tuned_tokenizer(text, return_tensors=\"tf\", padding=\"max_length\", truncation=True, max_length=55)"
   ]
  },
  {
   "cell_type": "code",
   "execution_count": 121,
   "metadata": {},
   "outputs": [],
   "source": [
    "input_dict = {\n",
    "    'input_ids': tf.cast(inputs['input_ids'], tf.int64),\n",
    "    'attention_mask': tf.cast(inputs['attention_mask'], tf.int64),\n",
    "    'token_type_ids': tf.cast(inputs['token_type_ids'], tf.int64)\n",
    "}"
   ]
  },
  {
   "cell_type": "code",
   "execution_count": 122,
   "metadata": {},
   "outputs": [],
   "source": [
    "outputs = fine_tuned_model(input_dict, training=False)"
   ]
  },
  {
   "cell_type": "code",
   "execution_count": 123,
   "metadata": {},
   "outputs": [
    {
     "data": {
      "text/plain": [
       "<tf.Tensor: shape=(1, 6), dtype=float32, numpy=\n",
       "array([[2.3129758e-04, 2.0574524e-04, 2.7048183e-04, 6.8689423e-04,\n",
       "        7.7079679e-03, 9.9089760e-01]], dtype=float32)>"
      ]
     },
     "execution_count": 123,
     "metadata": {},
     "output_type": "execute_result"
    }
   ],
   "source": [
    "outputs"
   ]
  },
  {
   "cell_type": "code",
   "execution_count": 124,
   "metadata": {},
   "outputs": [],
   "source": [
    "probabilities = tf.nn.softmax(outputs, axis=-1) \n",
    "probabilities_np = probabilities.numpy()[0] "
   ]
  },
  {
   "cell_type": "code",
   "execution_count": 125,
   "metadata": {},
   "outputs": [],
   "source": [
    "class_labels = ['sadness','joy','love','anger','fear','surprise']"
   ]
  },
  {
   "cell_type": "code",
   "execution_count": 126,
   "metadata": {},
   "outputs": [],
   "source": [
    "predicted_index = np.argmax(probabilities_np)"
   ]
  },
  {
   "cell_type": "code",
   "execution_count": 127,
   "metadata": {},
   "outputs": [
    {
     "name": "stdout",
     "output_type": "stream",
     "text": [
      "Predicted Label: surprise, Probability: 0.3497\n"
     ]
    }
   ],
   "source": [
    "predicted_label = class_labels[predicted_index]\n",
    "predicted_probability = probabilities_np[predicted_index]\n",
    "print(f\"Predicted Label: {predicted_label}, Probability: {predicted_probability:.4f}\")\n"
   ]
  }
 ],
 "metadata": {
  "kernelspec": {
   "display_name": "Python 3",
   "language": "python",
   "name": "python3"
  },
  "language_info": {
   "codemirror_mode": {
    "name": "ipython",
    "version": 3
   },
   "file_extension": ".py",
   "mimetype": "text/x-python",
   "name": "python",
   "nbconvert_exporter": "python",
   "pygments_lexer": "ipython3",
   "version": "3.9.19"
  }
 },
 "nbformat": 4,
 "nbformat_minor": 2
}
