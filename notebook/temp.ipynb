{
 "cells": [
  {
   "cell_type": "markdown",
   "metadata": {},
   "source": [
    "# translate"
   ]
  },
  {
   "cell_type": "code",
   "execution_count": 11,
   "metadata": {},
   "outputs": [],
   "source": [
    "from googletrans import Translator\n",
    "import langid\n",
    "import pandas as pd"
   ]
  },
  {
   "cell_type": "code",
   "execution_count": 24,
   "metadata": {},
   "outputs": [],
   "source": [
    "def detect_Translator(text):\n",
    "    translator = Translator()\n",
    "    try:\n",
    "        detection = translator.detect(text)\n",
    "        return detection\n",
    "    except Exception as e:\n",
    "        return \"error:- \"+e"
   ]
  },
  {
   "cell_type": "code",
   "execution_count": 25,
   "metadata": {},
   "outputs": [],
   "source": [
    "def detect_langid(text):\n",
    "    try:\n",
    "        lang, confidence = langid.classify(\"Sample Hinglish text here\")\n",
    "        return lang\n",
    "    except Exception as e:\n",
    "        return \"error:- \"+e"
   ]
  },
  {
   "cell_type": "code",
   "execution_count": 29,
   "metadata": {},
   "outputs": [],
   "source": [
    "def test(df : pd.DataFrame):\n",
    "    for index,row in df.iterrows():\n",
    "        langid = detect_langid(row['Comment'])\n",
    "        Translator = detect_Translator(row['Comment'])\n",
    "        print(f\"{row['Comment']}, langid :- {langid}, Translator :- {Translator}\")\n",
    "        print('\\n')"
   ]
  },
  {
   "cell_type": "code",
   "execution_count": null,
   "metadata": {},
   "outputs": [],
   "source": [
    "df=pd.read_csv(r'C:\\Users\\tarun\\Desktop\\Youtube-Comments-Sentiments-Analysis\\comments_df.csv')\n",
    "test(df)"
   ]
  },
  {
   "cell_type": "code",
   "execution_count": 47,
   "metadata": {},
   "outputs": [],
   "source": [
    "def detect_and_translate(text):\n",
    "    translator = Translator()\n",
    "    try:\n",
    "        detection = translator.detect(text)\n",
    "        print(detection)\n",
    "        if detection.lang != 'en':\n",
    "            translation = translator.translate(text, dest='en')\n",
    "            if translation and translation.text:\n",
    "                print(translation.text)\n",
    "                print(translation)\n",
    "                return translation.text\n",
    "            else:\n",
    "                return 'This is a neutral text'\n",
    "        else:\n",
    "            return text\n",
    "    except Exception as e:\n",
    "        print(f\"Translation error: {e}\")\n",
    "        return 'This is a neutral text'"
   ]
  },
  {
   "cell_type": "code",
   "execution_count": 65,
   "metadata": {},
   "outputs": [
    {
     "name": "stdout",
     "output_type": "stream",
     "text": [
      "Detected(lang=hi, confidence=None)\n",
      "A desert will not die now, Betiichod\n",
      "Translated(src=hi, dest=en, text=A desert will not die now, Betiichod, pronunciation=None, extra_data=\"{'confiden...\")\n"
     ]
    },
    {
     "data": {
      "text/plain": [
       "'A desert will not die now, Betiichod'"
      ]
     },
     "execution_count": 65,
     "metadata": {},
     "output_type": "execute_result"
    }
   ],
   "source": [
    "ans=detect_and_translate(text)\n",
    "ans"
   ]
  },
  {
   "cell_type": "markdown",
   "metadata": {},
   "source": [
    "# Text preprocessing"
   ]
  },
  {
   "cell_type": "code",
   "execution_count": 2,
   "metadata": {},
   "outputs": [],
   "source": [
    "import emoji\n",
    "import re\n",
    "\n",
    "def replace_emojis_with_meanings(text):\n",
    "    # First, demojize the text to get :emoji_name: format\n",
    "    demojized_text = emoji.demojize(text)\n",
    "    \n",
    "    # Use regex to find all :emoji_name: patterns and replace them with readable text\n",
    "    def convert_match(match):\n",
    "        # Get the matched emoji name without colons\n",
    "        emoji_name = match.group(1)\n",
    "        # Replace underscores with spaces\n",
    "        readable_name = emoji_name.replace('_', ' ')\n",
    "        return readable_name\n",
    "    \n",
    "    # Replace all :emoji_name: with readable text\n",
    "    readable_text = re.sub(r':([a-zA-Z0-9_]+):', convert_match, demojized_text)\n",
    "    \n",
    "    return readable_text"
   ]
  },
  {
   "cell_type": "code",
   "execution_count": 5,
   "metadata": {},
   "outputs": [],
   "source": [
    "def remove_emojis(text):\n",
    "  return emoji.replace_emoji(text, replace=\"\")"
   ]
  },
  {
   "cell_type": "code",
   "execution_count": 12,
   "metadata": {},
   "outputs": [],
   "source": [
    "df=pd.read_csv(r\"C:\\Users\\tarun\\Desktop\\Youtube-Comments-Sentiments-Analysis\\comments_df.csv\")"
   ]
  },
  {
   "cell_type": "code",
   "execution_count": 17,
   "metadata": {},
   "outputs": [
    {
     "data": {
      "text/plain": [
       "20"
      ]
     },
     "execution_count": 17,
     "metadata": {},
     "output_type": "execute_result"
    }
   ],
   "source": [
    "df.shape[0]"
   ]
  },
  {
   "cell_type": "markdown",
   "metadata": {},
   "source": [
    "# sentiment comments sagregation "
   ]
  },
  {
   "cell_type": "code",
   "execution_count": 3,
   "metadata": {},
   "outputs": [
    {
     "name": "stderr",
     "output_type": "stream",
     "text": [
      "c:\\Users\\tarun\\Desktop\\Youtube-Comments-Sentiments-Analysis\\env\\lib\\site-packages\\tqdm\\auto.py:21: TqdmWarning: IProgress not found. Please update jupyter and ipywidgets. See https://ipywidgets.readthedocs.io/en/stable/user_install.html\n",
      "  from .autonotebook import tqdm as notebook_tqdm\n"
     ]
    }
   ],
   "source": [
    "import os\n",
    "import re\n",
    "import emoji\n",
    "import awsgi\n",
    "import string\n",
    "import numpy as np\n",
    "import pandas as pd\n",
    "import tensorflow as tf\n",
    "from textblob import TextBlob\n",
    "from dotenv import load_dotenv\n",
    "from googletrans import Translator\n",
    "from googleapiclient.discovery import build\n",
    "from transformers import AutoTokenizer\n",
    "from flask import Flask, render_template, request"
   ]
  },
  {
   "cell_type": "code",
   "execution_count": 4,
   "metadata": {},
   "outputs": [],
   "source": [
    "df=pd.read_csv(r\"C:\\Users\\tarun\\Desktop\\Youtube-Comments-Sentiments-Analysis\\final_df.csv\")"
   ]
  },
  {
   "cell_type": "code",
   "execution_count": 6,
   "metadata": {},
   "outputs": [],
   "source": [
    "sentiment_counts = {'Sadness': 0, 'Joy': 0, 'Love': 0, 'Annoyed': 0, 'Fear': 0, 'Surprise': 0}\n",
    "comments_by_sentiment = {'Sadness': [], 'Joy': [], 'Love': [], 'Annoyed': [], 'Fear': [], 'Surprise': []}\n",
    "SENTIMENT_LABELS = {0: 'Sadness', 1: 'Joy', 2: 'Love', 3: 'Annoyed', 4: 'Fear', 5: 'Surprise'}"
   ]
  },
  {
   "cell_type": "code",
   "execution_count": 9,
   "metadata": {},
   "outputs": [],
   "source": [
    "tokenizer_path = r'C:\\Users\\tarun\\Desktop\\Youtube-Comments-Sentiments-Analysis\\model\\saved_tokenizer'\n",
    "model_path = r'C:\\Users\\tarun\\Desktop\\Youtube-Comments-Sentiments-Analysis\\model\\transformer'\n",
    "fine_tuned_tokenizer = AutoTokenizer.from_pretrained(tokenizer_path)\n",
    "fine_tuned_model = tf.saved_model.load(model_path)"
   ]
  },
  {
   "cell_type": "code",
   "execution_count": 7,
   "metadata": {},
   "outputs": [],
   "source": [
    "def return_sentiment(text : str) -> np.int64 :\n",
    "    inputs = fine_tuned_tokenizer(text, return_tensors=\"tf\", padding=\"max_length\", truncation=True, max_length=55)\n",
    "    input_dict = {\n",
    "        'input_ids': tf.cast(inputs['input_ids'], tf.int64),\n",
    "        'attention_mask': tf.cast(inputs['attention_mask'], tf.int64),\n",
    "        'token_type_ids': tf.cast(inputs['token_type_ids'], tf.int64)\n",
    "        }\n",
    "    outputs = fine_tuned_model(input_dict)\n",
    "    probabilities = tf.nn.softmax(outputs, axis=-1) \n",
    "    probabilities_np = probabilities.numpy()[0] \n",
    "    predicted_index = np.argmax(probabilities_np)\n",
    "    return predicted_index"
   ]
  },
  {
   "cell_type": "code",
   "execution_count": null,
   "metadata": {},
   "outputs": [],
   "source": [
    "for index, row in df.iterrows():\n",
    "        sentiment_index = return_sentiment(row['Comment'])  \n",
    "        sentiment_label = SENTIMENT_LABELS[sentiment_index] \n",
    "        sentiment_counts[sentiment_label]+=1\n",
    "        comments_by_sentiment[sentiment_label].append(translated_comment)"
   ]
  },
  {
   "cell_type": "code",
   "execution_count": null,
   "metadata": {},
   "outputs": [],
   "source": [
    "sentiment_counts"
   ]
  },
  {
   "cell_type": "code",
   "execution_count": null,
   "metadata": {},
   "outputs": [],
   "source": [
    "comments_by_sentiment"
   ]
  }
 ],
 "metadata": {
  "kernelspec": {
   "display_name": "Python 3",
   "language": "python",
   "name": "python3"
  },
  "language_info": {
   "codemirror_mode": {
    "name": "ipython",
    "version": 3
   },
   "file_extension": ".py",
   "mimetype": "text/x-python",
   "name": "python",
   "nbconvert_exporter": "python",
   "pygments_lexer": "ipython3",
   "version": "3.9.19"
  }
 },
 "nbformat": 4,
 "nbformat_minor": 2
}
