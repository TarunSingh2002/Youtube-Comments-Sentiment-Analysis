{
 "cells": [
  {
   "cell_type": "markdown",
   "metadata": {},
   "source": [
    "# translate"
   ]
  },
  {
   "cell_type": "code",
   "execution_count": 23,
   "metadata": {},
   "outputs": [],
   "source": [
    "from googletrans import Translator\n",
    "import langid\n",
    "import pandas as pd"
   ]
  },
  {
   "cell_type": "code",
   "execution_count": 24,
   "metadata": {},
   "outputs": [],
   "source": [
    "def detect_Translator(text):\n",
    "    translator = Translator()\n",
    "    try:\n",
    "        detection = translator.detect(text)\n",
    "        return detection\n",
    "    except Exception as e:\n",
    "        return \"error:- \"+e"
   ]
  },
  {
   "cell_type": "code",
   "execution_count": 25,
   "metadata": {},
   "outputs": [],
   "source": [
    "def detect_langid(text):\n",
    "    try:\n",
    "        lang, confidence = langid.classify(\"Sample Hinglish text here\")\n",
    "        return lang\n",
    "    except Exception as e:\n",
    "        return \"error:- \"+e"
   ]
  },
  {
   "cell_type": "code",
   "execution_count": 29,
   "metadata": {},
   "outputs": [],
   "source": [
    "def test(df : pd.DataFrame):\n",
    "    for index,row in df.iterrows():\n",
    "        langid = detect_langid(row['Comment'])\n",
    "        Translator = detect_Translator(row['Comment'])\n",
    "        print(f\"{row['Comment']}, langid :- {langid}, Translator :- {Translator}\")\n",
    "        print('\\n')"
   ]
  },
  {
   "cell_type": "code",
   "execution_count": null,
   "metadata": {},
   "outputs": [],
   "source": [
    "df=pd.read_csv(r'C:\\Users\\tarun\\Desktop\\Youtube-Comments-Sentiments-Analysis\\comments_df.csv')\n",
    "test(df)"
   ]
  },
  {
   "cell_type": "code",
   "execution_count": 47,
   "metadata": {},
   "outputs": [],
   "source": [
    "def detect_and_translate(text):\n",
    "    translator = Translator()\n",
    "    try:\n",
    "        detection = translator.detect(text)\n",
    "        print(detection)\n",
    "        if detection.lang != 'en':\n",
    "            translation = translator.translate(text, dest='en')\n",
    "            if translation and translation.text:\n",
    "                print(translation.text)\n",
    "                print(translation)\n",
    "                return translation.text\n",
    "            else:\n",
    "                return 'This is a neutral text'\n",
    "        else:\n",
    "            return text\n",
    "    except Exception as e:\n",
    "        print(f\"Translation error: {e}\")\n",
    "        return 'This is a neutral text'"
   ]
  },
  {
   "cell_type": "code",
   "execution_count": 65,
   "metadata": {},
   "outputs": [
    {
     "name": "stdout",
     "output_type": "stream",
     "text": [
      "Detected(lang=hi, confidence=None)\n",
      "A desert will not die now, Betiichod\n",
      "Translated(src=hi, dest=en, text=A desert will not die now, Betiichod, pronunciation=None, extra_data=\"{'confiden...\")\n"
     ]
    },
    {
     "data": {
      "text/plain": [
       "'A desert will not die now, Betiichod'"
      ]
     },
     "execution_count": 65,
     "metadata": {},
     "output_type": "execute_result"
    }
   ],
   "source": [
    "ans=detect_and_translate(text)\n",
    "ans"
   ]
  },
  {
   "cell_type": "code",
   "execution_count": null,
   "metadata": {},
   "outputs": [],
   "source": []
  }
 ],
 "metadata": {
  "kernelspec": {
   "display_name": "Python 3",
   "language": "python",
   "name": "python3"
  },
  "language_info": {
   "codemirror_mode": {
    "name": "ipython",
    "version": 3
   },
   "file_extension": ".py",
   "mimetype": "text/x-python",
   "name": "python",
   "nbconvert_exporter": "python",
   "pygments_lexer": "ipython3",
   "version": "3.9.19"
  }
 },
 "nbformat": 4,
 "nbformat_minor": 2
}
