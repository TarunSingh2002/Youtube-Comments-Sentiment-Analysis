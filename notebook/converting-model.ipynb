{
 "cells": [
  {
   "cell_type": "code",
   "execution_count": 2,
   "metadata": {},
   "outputs": [],
   "source": [
    "import os\n",
    "import tensorflow as tf\n",
    "import numpy as np\n",
    "from keras.layers import TFSMLayer\n",
    "from transformers import AutoTokenizer, TFAutoModel\n",
    "from tensorflow.keras.models import load_model"
   ]
  },
  {
   "cell_type": "code",
   "execution_count": 3,
   "metadata": {},
   "outputs": [],
   "source": [
    "tokenizer_path = r'C:\\Users\\tarun\\Desktop\\Youtube-Comments-Sentiments-Analysis\\model\\saved_tokenizer'\n",
    "model_path = r'C:\\Users\\tarun\\Desktop\\Youtube-Comments-Sentiments-Analysis\\model\\transformer'"
   ]
  },
  {
   "cell_type": "code",
   "execution_count": 4,
   "metadata": {},
   "outputs": [],
   "source": [
    "tokenizer = AutoTokenizer.from_pretrained(tokenizer_path)\n",
    "model = tf.saved_model.load(model_path)"
   ]
  },
  {
   "cell_type": "markdown",
   "metadata": {},
   "source": [
    "## Load dataset"
   ]
  },
  {
   "cell_type": "code",
   "execution_count": null,
   "metadata": {},
   "outputs": [],
   "source": [
    "from datasets import load_dataset\n",
    "dataset = load_dataset('dair-ai/emotion', 'split')\n",
    "def tokenize(batch):\n",
    "    return tokenizer(batch[\"text\"], padding=True, truncation=True,max_length=55)\n",
    "tokenized_dataset = dataset.map(tokenize, batched=True, batch_size=None)\n",
    "tokenized_dataset.set_format('tf', columns=['input_ids', 'attention_mask', 'token_type_ids', 'label'])\n",
    "def order(inp):\n",
    "    data = list(inp.values())\n",
    "    return {\n",
    "        'input_ids': data[1],\n",
    "        'attention_mask': data[3],\n",
    "        'token_type_ids': data[2]\n",
    "    }, data[0]\n",
    "BATCH_SIZE=8\n",
    "train_dataset = tf.data.Dataset.from_tensor_slices(tokenized_dataset['train'][:])\n",
    "train_dataset = train_dataset.shuffle(1000).batch(BATCH_SIZE).map(order, num_parallel_calls=tf.data.AUTOTUNE)\n",
    "\n",
    "validation_dataset = tf.data.Dataset.from_tensor_slices(tokenized_dataset['validation'][:])\n",
    "validation_dataset = validation_dataset.batch(BATCH_SIZE).map(order, num_parallel_calls=tf.data.AUTOTUNE)\n",
    "\n",
    "test_dataset = tf.data.Dataset.from_tensor_slices(tokenized_dataset['test'][:])\n",
    "test_dataset = test_dataset.batch(BATCH_SIZE).map(order, num_parallel_calls=tf.data.AUTOTUNE)"
   ]
  },
  {
   "cell_type": "markdown",
   "metadata": {},
   "source": [
    "# Convert the Model to TensorFlow Lite Format with the help of Float16 Quantization"
   ]
  },
  {
   "cell_type": "code",
   "execution_count": 19,
   "metadata": {},
   "outputs": [],
   "source": [
    "converter = tf.lite.TFLiteConverter.from_saved_model(model_path)\n",
    "converter.target_spec.supported_types = [tf.float16]  \n",
    "tflite_model = converter.convert()\n",
    "\n",
    "# Save the TFLite model\n",
    "with open('model_float16.tflite', 'wb') as f:\n",
    "    f.write(tflite_model)"
   ]
  },
  {
   "cell_type": "markdown",
   "metadata": {},
   "source": [
    "## checking the accuracy of the tflite model"
   ]
  },
  {
   "cell_type": "code",
   "execution_count": 21,
   "metadata": {},
   "outputs": [
    {
     "name": "stdout",
     "output_type": "stream",
     "text": [
      "Accuracy of the TFLite model on test dataset: 0.9110\n",
      "Accuracy of the TFLite model on validation dataset: 0.9170\n"
     ]
    }
   ],
   "source": [
    "# Load TFLite model and allocate tensors\n",
    "interpreter = tf.lite.Interpreter(model_path='model_float16.tflite')\n",
    "interpreter.allocate_tensors()\n",
    "\n",
    "# Get input and output details\n",
    "input_details = interpreter.get_input_details()\n",
    "output_details = interpreter.get_output_details()\n",
    "\n",
    "# Function to get predictions from TFLite model for a single sample\n",
    "def tflite_predict(interpreter, input_ids, attention_mask, token_type_ids):\n",
    "    # Ensure inputs are reshaped to match expected input shapes (batch size 1)\n",
    "    input_ids = np.expand_dims(input_ids, axis=0)           # Reshape to (1, 55)\n",
    "    attention_mask = np.expand_dims(attention_mask, axis=0) # Reshape to (1, 55)\n",
    "    token_type_ids = np.expand_dims(token_type_ids, axis=0) # Reshape to (1, 55)\n",
    "    \n",
    "    # Set the input tensors\n",
    "    interpreter.set_tensor(input_details[1]['index'], input_ids)\n",
    "    interpreter.set_tensor(input_details[0]['index'], attention_mask)\n",
    "    interpreter.set_tensor(input_details[2]['index'], token_type_ids)\n",
    "    \n",
    "    # Run inference\n",
    "    interpreter.invoke()\n",
    "    \n",
    "    # Get the output\n",
    "    output = interpreter.get_tensor(output_details[0]['index'])\n",
    "    return output\n",
    "\n",
    "# Evaluate accuracy on the test set\n",
    "correct_predictions = 0\n",
    "total_samples = 0\n",
    "\n",
    "for input_data, labels in test_dataset:\n",
    "    # Extract individual components from input data\n",
    "    input_ids = input_data['input_ids'].numpy()\n",
    "    attention_mask = input_data['attention_mask'].numpy()\n",
    "    token_type_ids = input_data['token_type_ids'].numpy()\n",
    "    \n",
    "    # Iterate over each sample in the batch\n",
    "    for i in range(len(input_ids)):\n",
    "        # Get predictions from TFLite model for each sample\n",
    "        predictions = tflite_predict(\n",
    "            interpreter, \n",
    "            input_ids[i], \n",
    "            attention_mask[i], \n",
    "            token_type_ids[i]\n",
    "        )\n",
    "        \n",
    "        # Convert predictions to class labels (assuming a classification task)\n",
    "        predicted_label = np.argmax(predictions, axis=1)[0]\n",
    "        \n",
    "        # Check if the prediction is correct\n",
    "        correct_predictions += int(predicted_label == labels[i].numpy())\n",
    "        total_samples += 1\n",
    "\n",
    "accuracy = correct_predictions / total_samples\n",
    "print(f\"Accuracy of the TFLite model on test dataset: {accuracy:.4f}\")\n",
    "\n",
    "for input_data, labels in validation_dataset:\n",
    "    # Extract individual components from input data\n",
    "    input_ids = input_data['input_ids'].numpy()\n",
    "    attention_mask = input_data['attention_mask'].numpy()\n",
    "    token_type_ids = input_data['token_type_ids'].numpy()\n",
    "    \n",
    "    # Iterate over each sample in the batch\n",
    "    for i in range(len(input_ids)):\n",
    "        # Get predictions from TFLite model for each sample\n",
    "        predictions = tflite_predict(\n",
    "            interpreter, \n",
    "            input_ids[i], \n",
    "            attention_mask[i], \n",
    "            token_type_ids[i]\n",
    "        )\n",
    "        \n",
    "        # Convert predictions to class labels (assuming a classification task)\n",
    "        predicted_label = np.argmax(predictions, axis=1)[0]\n",
    "        \n",
    "        # Check if the prediction is correct\n",
    "        correct_predictions += int(predicted_label == labels[i].numpy())\n",
    "        total_samples += 1\n",
    "\n",
    "accuracy = correct_predictions / total_samples\n",
    "print(f\"Accuracy of the TFLite model on validation dataset: {accuracy:.4f}\")"
   ]
  }
 ],
 "metadata": {
  "kernelspec": {
   "display_name": "Python 3",
   "language": "python",
   "name": "python3"
  },
  "language_info": {
   "codemirror_mode": {
    "name": "ipython",
    "version": 3
   },
   "file_extension": ".py",
   "mimetype": "text/x-python",
   "name": "python",
   "nbconvert_exporter": "python",
   "pygments_lexer": "ipython3",
   "version": "3.9.19"
  }
 },
 "nbformat": 4,
 "nbformat_minor": 2
}
